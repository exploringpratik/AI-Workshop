{
 "cells": [
  {
   "cell_type": "markdown",
   "metadata": {},
   "source": [
    "# Keras"
   ]
  },
  {
   "cell_type": "code",
   "execution_count": 1,
   "metadata": {},
   "outputs": [
    {
     "name": "stderr",
     "output_type": "stream",
     "text": [
      "Using TensorFlow backend.\n"
     ]
    }
   ],
   "source": [
    "import keras\n",
    "import tensorflow as tf\n",
    "from tensorflow.keras.models import Sequential # Sequential NN\n",
    "from tensorflow.keras.layers import Dense # Dense represents layout in a neural network\n",
    "import numpy as np #Numpy for array operations\n",
    "import matplotlib.pyplot as plt # To visualize training process"
   ]
  },
  {
   "cell_type": "code",
   "execution_count": 2,
   "metadata": {},
   "outputs": [
    {
     "data": {
      "text/plain": [
       "(101,)"
      ]
     },
     "execution_count": 2,
     "metadata": {},
     "output_type": "execute_result"
    }
   ],
   "source": [
    "# To create a neural network that gives twice of input data\n",
    "x = np.linspace(-1,1,101)  # generate data from 0 to 1\n",
    "y = 2*x                    # find twice of input data\n",
    "x.shape                    # shape of input data"
   ]
  },
  {
   "cell_type": "code",
   "execution_count": 3,
   "metadata": {},
   "outputs": [
    {
     "name": "stdout",
     "output_type": "stream",
     "text": [
      "Model: \"sequential\"\n",
      "_________________________________________________________________\n",
      "Layer (type)                 Output Shape              Param #   \n",
      "=================================================================\n",
      "dense (Dense)                (None, 1)                 2         \n",
      "_________________________________________________________________\n",
      "dense_1 (Dense)              (None, 1)                 2         \n",
      "=================================================================\n",
      "Total params: 4\n",
      "Trainable params: 4\n",
      "Non-trainable params: 0\n",
      "_________________________________________________________________\n"
     ]
    }
   ],
   "source": [
    "# add simple layers on sequential model (SNN)\n",
    "model = Sequential() # Here model is the object of class Sequential\n",
    "\n",
    "#model.add(Input(101,)) # (101,) is the shape of input\n",
    "model.add(Dense(1,input_dim=1,activation='linear')) # input_shape=(101,) can also be used inplace of input_dim\n",
    "# can create more layers using the same code as 'model.add(Dense(...))'\n",
    "model.add(Dense(1)) # Output layer with only one node; 1 implies relationship with shape of output data,i.e. single dim\n",
    "model.summary()"
   ]
  },
  {
   "cell_type": "code",
   "execution_count": 4,
   "metadata": {},
   "outputs": [],
   "source": [
    "# model gives mse as inputted\n",
    "model.compile('sgd','mse', metrics=['mae','acc']) # mse = mean_squared_error; sgd = stochastic gradient descent\n",
    "# metrics give the measure of performance of neural network"
   ]
  },
  {
   "cell_type": "code",
   "execution_count": 5,
   "metadata": {},
   "outputs": [
    {
     "name": "stdout",
     "output_type": "stream",
     "text": [
      "WARNING:tensorflow:The `nb_epoch` argument in `fit` has been renamed `epochs`.\n",
      "Train on 101 samples\n",
      "Epoch 1/100\n",
      "101/101 [==============================] - 1s 8ms/sample - loss: 0.1715 - mae: 0.3585 - acc: 0.0198\n",
      "Epoch 2/100\n",
      "101/101 [==============================] - 0s 128us/sample - loss: 0.1473 - mae: 0.3326 - acc: 0.0198\n",
      "Epoch 3/100\n",
      "101/101 [==============================] - 0s 158us/sample - loss: 0.1237 - mae: 0.3044 - acc: 0.0198\n",
      "Epoch 4/100\n",
      "101/101 [==============================] - 0s 128us/sample - loss: 0.1065 - mae: 0.2826 - acc: 0.0198\n",
      "Epoch 5/100\n",
      "101/101 [==============================] - 0s 178us/sample - loss: 0.0881 - mae: 0.2568 - acc: 0.0198\n",
      "Epoch 6/100\n",
      "101/101 [==============================] - 0s 168us/sample - loss: 0.0736 - mae: 0.2346 - acc: 0.0198\n",
      "Epoch 7/100\n",
      "101/101 [==============================] - 0s 138us/sample - loss: 0.0631 - mae: 0.2173 - acc: 0.0198\n",
      "Epoch 8/100\n",
      "101/101 [==============================] - 0s 148us/sample - loss: 0.0531 - mae: 0.1994 - acc: 0.0198\n",
      "Epoch 9/100\n",
      "101/101 [==============================] - 0s 207us/sample - loss: 0.0435 - mae: 0.1806 - acc: 0.0198\n",
      "Epoch 10/100\n",
      "101/101 [==============================] - 0s 127us/sample - loss: 0.0362 - mae: 0.1648 - acc: 0.0198\n",
      "Epoch 11/100\n",
      "101/101 [==============================] - 0s 158us/sample - loss: 0.0297 - mae: 0.1492 - acc: 0.0198\n",
      "Epoch 12/100\n",
      "101/101 [==============================] - 0s 158us/sample - loss: 0.0241 - mae: 0.1344 - acc: 0.0198\n",
      "Epoch 13/100\n",
      "101/101 [==============================] - 0s 128us/sample - loss: 0.0198 - mae: 0.1218 - acc: 0.0198\n",
      "Epoch 14/100\n",
      "101/101 [==============================] - 0s 158us/sample - loss: 0.0163 - mae: 0.1104 - acc: 0.0198\n",
      "Epoch 15/100\n",
      "101/101 [==============================] - 0s 128us/sample - loss: 0.0132 - mae: 0.0995 - acc: 0.0198\n",
      "Epoch 16/100\n",
      "101/101 [==============================] - 0s 128us/sample - loss: 0.0109 - mae: 0.0905 - acc: 0.0198\n",
      "Epoch 17/100\n",
      "101/101 [==============================] - 0s 138us/sample - loss: 0.0089 - mae: 0.0816 - acc: 0.0198\n",
      "Epoch 18/100\n",
      "101/101 [==============================] - 0s 99us/sample - loss: 0.0073 - mae: 0.0741 - acc: 0.0198\n",
      "Epoch 19/100\n",
      "101/101 [==============================] - 0s 128us/sample - loss: 0.0059 - mae: 0.0666 - acc: 0.0198\n",
      "Epoch 20/100\n",
      "101/101 [==============================] - 0s 118us/sample - loss: 0.0045 - mae: 0.0577 - acc: 0.0198\n",
      "Epoch 21/100\n",
      "101/101 [==============================] - 0s 99us/sample - loss: 0.0036 - mae: 0.0519 - acc: 0.0198\n",
      "Epoch 22/100\n",
      "101/101 [==============================] - 0s 138us/sample - loss: 0.0029 - mae: 0.0468 - acc: 0.0198\n",
      "Epoch 23/100\n",
      "101/101 [==============================] - 0s 118us/sample - loss: 0.0024 - mae: 0.0420 - acc: 0.0198\n",
      "Epoch 24/100\n",
      "101/101 [==============================] - 0s 109us/sample - loss: 0.0019 - mae: 0.0375 - acc: 0.0198\n",
      "Epoch 25/100\n",
      "101/101 [==============================] - 0s 128us/sample - loss: 0.0015 - mae: 0.0335 - acc: 0.0198\n",
      "Epoch 26/100\n",
      "101/101 [==============================] - 0s 109us/sample - loss: 0.0012 - mae: 0.0299 - acc: 0.0198\n",
      "Epoch 27/100\n",
      "101/101 [==============================] - 0s 178us/sample - loss: 9.8276e-04 - mae: 0.0271 - acc: 0.0198\n",
      "Epoch 28/100\n",
      "101/101 [==============================] - 0s 109us/sample - loss: 7.9302e-04 - mae: 0.0243 - acc: 0.0198\n",
      "Epoch 29/100\n",
      "101/101 [==============================] - 0s 138us/sample - loss: 6.4104e-04 - mae: 0.0219 - acc: 0.0198\n",
      "Epoch 30/100\n",
      "101/101 [==============================] - 0s 188us/sample - loss: 5.1990e-04 - mae: 0.0197 - acc: 0.0198\n",
      "Epoch 31/100\n",
      "101/101 [==============================] - 0s 178us/sample - loss: 4.0851e-04 - mae: 0.0175 - acc: 0.0198\n",
      "Epoch 32/100\n",
      "101/101 [==============================] - 0s 127us/sample - loss: 3.2448e-04 - mae: 0.0156 - acc: 0.0198\n",
      "Epoch 33/100\n",
      "101/101 [==============================] - 0s 188us/sample - loss: 2.6535e-04 - mae: 0.0141 - acc: 0.0198\n",
      "Epoch 34/100\n",
      "101/101 [==============================] - 0s 158us/sample - loss: 2.1284e-04 - mae: 0.0126 - acc: 0.0198\n",
      "Epoch 35/100\n",
      "101/101 [==============================] - 0s 158us/sample - loss: 1.7400e-04 - mae: 0.0114 - acc: 0.0198\n",
      "Epoch 36/100\n",
      "101/101 [==============================] - 0s 168us/sample - loss: 1.3829e-04 - mae: 0.0102 - acc: 0.0198\n",
      "Epoch 37/100\n",
      "101/101 [==============================] - 0s 138us/sample - loss: 1.1005e-04 - mae: 0.0091 - acc: 0.0198\n",
      "Epoch 38/100\n",
      "101/101 [==============================] - 0s 188us/sample - loss: 8.4603e-05 - mae: 0.0079 - acc: 0.0198\n",
      "Epoch 39/100\n",
      "101/101 [==============================] - 0s 158us/sample - loss: 6.9070e-05 - mae: 0.0072 - acc: 0.0198\n",
      "Epoch 40/100\n",
      "101/101 [==============================] - 0s 158us/sample - loss: 5.4560e-05 - mae: 0.0064 - acc: 0.0198\n",
      "Epoch 41/100\n",
      "101/101 [==============================] - 0s 80us/sample - loss: 4.4181e-05 - mae: 0.0058 - acc: 0.0198\n",
      "Epoch 42/100\n",
      "101/101 [==============================] - 0s 128us/sample - loss: 3.5395e-05 - mae: 0.0051 - acc: 0.0198\n",
      "Epoch 43/100\n",
      "101/101 [==============================] - 0s 109us/sample - loss: 2.8795e-05 - mae: 0.0046 - acc: 0.0198\n",
      "Epoch 44/100\n",
      "101/101 [==============================] - 0s 128us/sample - loss: 2.3033e-05 - mae: 0.0042 - acc: 0.0198\n",
      "Epoch 45/100\n",
      "101/101 [==============================] - 0s 109us/sample - loss: 1.8169e-05 - mae: 0.0037 - acc: 0.0198\n",
      "Epoch 46/100\n",
      "101/101 [==============================] - 0s 118us/sample - loss: 1.4713e-05 - mae: 0.0033 - acc: 0.0198\n",
      "Epoch 47/100\n",
      "101/101 [==============================] - 0s 79us/sample - loss: 1.1422e-05 - mae: 0.0029 - acc: 0.0198\n",
      "Epoch 48/100\n",
      "101/101 [==============================] - 0s 109us/sample - loss: 9.0286e-06 - mae: 0.0026 - acc: 0.0198\n",
      "Epoch 49/100\n",
      "101/101 [==============================] - 0s 168us/sample - loss: 7.4912e-06 - mae: 0.0024 - acc: 0.0198\n",
      "Epoch 50/100\n",
      "101/101 [==============================] - 0s 128us/sample - loss: 5.9986e-06 - mae: 0.0021 - acc: 0.0198\n",
      "Epoch 51/100\n",
      "101/101 [==============================] - 0s 138us/sample - loss: 4.7788e-06 - mae: 0.0019 - acc: 0.0198\n",
      "Epoch 52/100\n",
      "101/101 [==============================] - 0s 188us/sample - loss: 3.8495e-06 - mae: 0.0017 - acc: 0.0198\n",
      "Epoch 53/100\n",
      "101/101 [==============================] - 0s 168us/sample - loss: 3.1581e-06 - mae: 0.0015 - acc: 0.0198\n",
      "Epoch 54/100\n",
      "101/101 [==============================] - 0s 138us/sample - loss: 2.5465e-06 - mae: 0.0014 - acc: 0.0198\n",
      "Epoch 55/100\n",
      "101/101 [==============================] - 0s 188us/sample - loss: 2.0433e-06 - mae: 0.0012 - acc: 0.0198\n",
      "Epoch 56/100\n",
      "101/101 [==============================] - 0s 148us/sample - loss: 1.5980e-06 - mae: 0.0011 - acc: 0.0198\n",
      "Epoch 57/100\n",
      "101/101 [==============================] - 0s 148us/sample - loss: 1.2836e-06 - mae: 9.7895e-04 - acc: 0.0198\n",
      "Epoch 58/100\n",
      "101/101 [==============================] - 0s 128us/sample - loss: 1.0268e-06 - mae: 8.7802e-04 - acc: 0.0198\n",
      "Epoch 59/100\n",
      "101/101 [==============================] - 0s 158us/sample - loss: 7.7708e-07 - mae: 7.6270e-04 - acc: 0.0198\n",
      "Epoch 60/100\n",
      "101/101 [==============================] - 0s 118us/sample - loss: 6.3191e-07 - mae: 6.8863e-04 - acc: 0.0198\n",
      "Epoch 61/100\n",
      "101/101 [==============================] - 0s 158us/sample - loss: 4.9901e-07 - mae: 6.1097e-04 - acc: 0.0198\n",
      "Epoch 62/100\n",
      "101/101 [==============================] - 0s 119us/sample - loss: 4.0431e-07 - mae: 5.5088e-04 - acc: 0.0198\n",
      "Epoch 63/100\n",
      "101/101 [==============================] - 0s 119us/sample - loss: 3.3181e-07 - mae: 4.9883e-04 - acc: 0.0198\n",
      "Epoch 64/100\n",
      "101/101 [==============================] - 0s 89us/sample - loss: 2.7201e-07 - mae: 4.5212e-04 - acc: 0.0198\n",
      "Epoch 65/100\n",
      "101/101 [==============================] - 0s 99us/sample - loss: 2.1321e-07 - mae: 3.9967e-04 - acc: 0.0198\n",
      "Epoch 66/100\n",
      "101/101 [==============================] - 0s 118us/sample - loss: 1.7073e-07 - mae: 3.5780e-04 - acc: 0.0198\n",
      "Epoch 67/100\n",
      "101/101 [==============================] - 0s 119us/sample - loss: 1.3618e-07 - mae: 3.1950e-04 - acc: 0.0198\n",
      "Epoch 68/100\n",
      "101/101 [==============================] - 0s 109us/sample - loss: 1.0735e-07 - mae: 2.8409e-04 - acc: 0.0198\n",
      "Epoch 69/100\n",
      "101/101 [==============================] - 0s 109us/sample - loss: 8.7117e-08 - mae: 2.5555e-04 - acc: 0.0198\n",
      "Epoch 70/100\n",
      "101/101 [==============================] - 0s 109us/sample - loss: 6.8710e-08 - mae: 2.2695e-04 - acc: 0.0198\n",
      "Epoch 71/100\n",
      "101/101 [==============================] - 0s 148us/sample - loss: 5.2238e-08 - mae: 1.9762e-04 - acc: 0.0198\n",
      "Epoch 72/100\n",
      "101/101 [==============================] - 0s 119us/sample - loss: 4.1639e-08 - mae: 1.7644e-04 - acc: 0.0198\n",
      "Epoch 73/100\n",
      "101/101 [==============================] - 0s 109us/sample - loss: 3.3605e-08 - mae: 1.5875e-04 - acc: 0.0198\n",
      "Epoch 74/100\n",
      "101/101 [==============================] - 0s 99us/sample - loss: 2.6830e-08 - mae: 1.4185e-04 - acc: 0.0198\n",
      "Epoch 75/100\n",
      "101/101 [==============================] - 0s 138us/sample - loss: 2.1514e-08 - mae: 1.2708e-04 - acc: 0.0198\n",
      "Epoch 76/100\n",
      "101/101 [==============================] - 0s 109us/sample - loss: 1.6880e-08 - mae: 1.1217e-04 - acc: 0.0198\n",
      "Epoch 77/100\n",
      "101/101 [==============================] - 0s 118us/sample - loss: 1.4101e-08 - mae: 1.0278e-04 - acc: 0.0198\n",
      "Epoch 78/100\n",
      "101/101 [==============================] - 0s 89us/sample - loss: 1.1292e-08 - mae: 9.1855e-05 - acc: 0.0198\n",
      "Epoch 79/100\n",
      "101/101 [==============================] - 0s 158us/sample - loss: 9.0822e-09 - mae: 8.2483e-05 - acc: 0.0198\n",
      "Epoch 80/100\n",
      "101/101 [==============================] - 0s 128us/sample - loss: 7.4543e-09 - mae: 7.4788e-05 - acc: 0.0198\n",
      "Epoch 81/100\n",
      "101/101 [==============================] - 0s 109us/sample - loss: 5.7276e-09 - mae: 6.5450e-05 - acc: 0.0198\n",
      "Epoch 82/100\n",
      "101/101 [==============================] - 0s 138us/sample - loss: 4.7169e-09 - mae: 5.9454e-05 - acc: 0.0198\n",
      "Epoch 83/100\n",
      "101/101 [==============================] - 0s 99us/sample - loss: 3.7020e-09 - mae: 5.2690e-05 - acc: 0.0198\n",
      "Epoch 84/100\n",
      "101/101 [==============================] - 0s 99us/sample - loss: 2.9909e-09 - mae: 4.7327e-05 - acc: 0.0198\n",
      "Epoch 85/100\n",
      "101/101 [==============================] - 0s 138us/sample - loss: 2.4393e-09 - mae: 4.2770e-05 - acc: 0.0198\n",
      "Epoch 86/100\n",
      "101/101 [==============================] - 0s 128us/sample - loss: 1.9746e-09 - mae: 3.8508e-05 - acc: 0.0198\n",
      "Epoch 87/100\n",
      "101/101 [==============================] - 0s 109us/sample - loss: 1.6189e-09 - mae: 3.4824e-05 - acc: 0.0198\n",
      "Epoch 88/100\n",
      "101/101 [==============================] - 0s 128us/sample - loss: 1.3204e-09 - mae: 3.1429e-05 - acc: 0.0198\n",
      "Epoch 89/100\n",
      "101/101 [==============================] - 0s 158us/sample - loss: 1.0835e-09 - mae: 2.8508e-05 - acc: 0.0198\n",
      "Epoch 90/100\n",
      "101/101 [==============================] - 0s 168us/sample - loss: 8.6901e-10 - mae: 2.5538e-05 - acc: 0.0198\n",
      "Epoch 91/100\n",
      "101/101 [==============================] - 0s 137us/sample - loss: 6.8484e-10 - mae: 2.2630e-05 - acc: 0.0198\n",
      "Epoch 92/100\n",
      "101/101 [==============================] - 0s 217us/sample - loss: 5.3536e-10 - mae: 2.0030e-05 - acc: 0.0198\n",
      "Epoch 93/100\n",
      "101/101 [==============================] - 0s 60us/sample - loss: 4.2314e-10 - mae: 1.7816e-05 - acc: 0.0198\n",
      "Epoch 94/100\n",
      "101/101 [==============================] - 0s 99us/sample - loss: 3.3943e-10 - mae: 1.5936e-05 - acc: 0.0198\n",
      "Epoch 95/100\n",
      "101/101 [==============================] - 0s 89us/sample - loss: 2.7186e-10 - mae: 1.4285e-05 - acc: 0.0198\n",
      "Epoch 96/100\n",
      "101/101 [==============================] - 0s 118us/sample - loss: 2.1039e-10 - mae: 1.2575e-05 - acc: 0.0198\n",
      "Epoch 97/100\n",
      "101/101 [==============================] - 0s 158us/sample - loss: 1.6191e-10 - mae: 1.0999e-05 - acc: 0.0198\n",
      "Epoch 98/100\n",
      "101/101 [==============================] - 0s 128us/sample - loss: 1.3002e-10 - mae: 9.8786e-06 - acc: 0.0198\n",
      "Epoch 99/100\n",
      "101/101 [==============================] - 0s 158us/sample - loss: 1.0297e-10 - mae: 8.7780e-06 - acc: 0.0198\n",
      "Epoch 100/100\n",
      "101/101 [==============================] - 0s 123us/sample - loss: 8.3177e-11 - mae: 7.8981e-06 - acc: 0.0198\n"
     ]
    }
   ],
   "source": [
    "# model training\n",
    "history = model.fit(x,y,nb_epoch=100,verbose=1) # higher no of epochs give less error values"
   ]
  },
  {
   "cell_type": "code",
   "execution_count": 6,
   "metadata": {},
   "outputs": [
    {
     "name": "stdout",
     "output_type": "stream",
     "text": [
      "dict_keys(['loss', 'mae', 'acc'])\n"
     ]
    },
    {
     "data": {
      "image/png": "[encoded data removed]",
      "text/plain": [
       "<Figure size 432x288 with 1 Axes>"
      ]
     },
     "metadata": {
      "needs_background": "light"
     },
     "output_type": "display_data"
    }
   ],
   "source": [
    "# list all data in history\n",
    "print(history.history.keys())\n",
    "\n",
    "# summarize history for loss\n",
    "plt.plot(history.history['loss'])\n",
    "plt.plot(history.history['mae'])\n",
    "plt.plot(history.history['acc'])\n",
    "plt.title('Model Performance Summary')\n",
    "plt.legend(['loss','mae','acc'])\n",
    "plt.xlabel('loss, mae, acc')\n",
    "plt.ylabel('epochs')\n",
    "plt.show()"
   ]
  },
  {
   "cell_type": "code",
   "execution_count": 7,
   "metadata": {},
   "outputs": [
    {
     "name": "stdout",
     "output_type": "stream",
     "text": [
      "4/1 [========================================================================================================================] - 0s 24ms/sample - loss: 8.6712e-11 - mae: 7.8864e-06 - acc: 0.0000e+00\n"
     ]
    },
    {
     "data": {
      "text/plain": [
       "[8.671247053726461e-11, 7.88644e-06, 0.0]"
      ]
     },
     "execution_count": 7,
     "metadata": {},
     "output_type": "execute_result"
    }
   ],
   "source": [
    "# model testing\n",
    "# data has to be normalized based on training data\n",
    "test_x = np.array([1000,100,1200,1900]) / 1900  # divide by max value (data-preprocessing)\n",
    "test_y = 2*test_x\n",
    "# test_y = keras.utils.tp_categorical(test_y,num_classes=2)\n",
    "\n",
    "test = model.evaluate(test_x,test_y)\n",
    "test"
   ]
  },
  {
   "cell_type": "code",
   "execution_count": 8,
   "metadata": {},
   "outputs": [
    {
     "name": "stdout",
     "output_type": "stream",
     "text": [
      "[100.         101.02020202 102.04040404 103.06060606 104.08080808\n",
      " 105.1010101  106.12121212 107.14141414 108.16161616 109.18181818\n",
      " 110.2020202  111.22222222 112.24242424 113.26262626 114.28282828\n",
      " 115.3030303  116.32323232 117.34343434 118.36363636 119.38383838\n",
      " 120.4040404  121.42424242 122.44444444 123.46464646 124.48484848\n",
      " 125.50505051 126.52525253 127.54545455 128.56565657 129.58585859\n",
      " 130.60606061 131.62626263 132.64646465 133.66666667 134.68686869\n",
      " 135.70707071 136.72727273 137.74747475 138.76767677 139.78787879\n",
      " 140.80808081 141.82828283 142.84848485 143.86868687 144.88888889\n",
      " 145.90909091 146.92929293 147.94949495 148.96969697 149.98989899\n",
      " 151.01010101 152.03030303 153.05050505 154.07070707 155.09090909\n",
      " 156.11111111 157.13131313 158.15151515 159.17171717 160.19191919\n",
      " 161.21212121 162.23232323 163.25252525 164.27272727 165.29292929\n",
      " 166.31313131 167.33333333 168.35353535 169.37373737 170.39393939\n",
      " 171.41414141 172.43434343 173.45454545 174.47474747 175.49494949\n",
      " 176.51515152 177.53535354 178.55555556 179.57575758 180.5959596\n",
      " 181.61616162 182.63636364 183.65656566 184.67676768 185.6969697\n",
      " 186.71717172 187.73737374 188.75757576 189.77777778 190.7979798\n",
      " 191.81818182 192.83838384 193.85858586 194.87878788 195.8989899\n",
      " 196.91919192 197.93939394 198.95959596 199.97979798 201.        ] [[199.99854]\n",
      " [202.03893]\n",
      " [204.07932]\n",
      " [206.1197 ]\n",
      " [208.1601 ]\n",
      " [210.2005 ]\n",
      " [212.24089]\n",
      " [214.28125]\n",
      " [216.32164]\n",
      " [218.36203]\n",
      " [220.40242]\n",
      " [222.44281]\n",
      " [224.4832 ]\n",
      " [226.5236 ]\n",
      " [228.564  ]\n",
      " [230.60439]\n",
      " [232.64478]\n",
      " [234.68517]\n",
      " [236.72556]\n",
      " [238.76591]\n",
      " [240.80634]\n",
      " [242.84671]\n",
      " [244.8871 ]\n",
      " [246.92749]\n",
      " [248.96788]\n",
      " [251.00827]\n",
      " [253.04866]\n",
      " [255.08905]\n",
      " [257.12946]\n",
      " [259.16983]\n",
      " [261.21024]\n",
      " [263.2506 ]\n",
      " [265.29102]\n",
      " [267.33142]\n",
      " [269.3718 ]\n",
      " [271.4122 ]\n",
      " [273.45258]\n",
      " [275.49298]\n",
      " [277.53333]\n",
      " [279.57373]\n",
      " [281.6141 ]\n",
      " [283.6545 ]\n",
      " [285.6949 ]\n",
      " [287.7353 ]\n",
      " [289.77567]\n",
      " [291.81604]\n",
      " [293.85645]\n",
      " [295.89682]\n",
      " [297.93726]\n",
      " [299.97763]\n",
      " [302.018  ]\n",
      " [304.0584 ]\n",
      " [306.0988 ]\n",
      " [308.1392 ]\n",
      " [310.17957]\n",
      " [312.21997]\n",
      " [314.26035]\n",
      " [316.30075]\n",
      " [318.34113]\n",
      " [320.38153]\n",
      " [322.42194]\n",
      " [324.4623 ]\n",
      " [326.50266]\n",
      " [328.54306]\n",
      " [330.58347]\n",
      " [332.62384]\n",
      " [334.66425]\n",
      " [336.70462]\n",
      " [338.745  ]\n",
      " [340.7854 ]\n",
      " [342.82578]\n",
      " [344.86618]\n",
      " [346.90656]\n",
      " [348.94696]\n",
      " [350.98734]\n",
      " [353.02774]\n",
      " [355.06815]\n",
      " [357.10852]\n",
      " [359.14893]\n",
      " [361.1893 ]\n",
      " [363.2297 ]\n",
      " [365.27008]\n",
      " [367.31046]\n",
      " [369.35086]\n",
      " [371.39124]\n",
      " [373.43164]\n",
      " [375.47202]\n",
      " [377.5124 ]\n",
      " [379.55276]\n",
      " [381.59317]\n",
      " [383.63358]\n",
      " [385.67395]\n",
      " [387.71436]\n",
      " [389.75473]\n",
      " [391.79514]\n",
      " [393.8355 ]\n",
      " [395.87592]\n",
      " [397.9163 ]\n",
      " [399.9567 ]\n",
      " [401.99707]]\n",
      "100/1 [========================================================================================================================================================================================================================================================================================================================================================================================================================================================================================================================================================================================================================================================================================================================================================================================================================================================================================================================================================================================================================================================================================================================================================================================================================================================================================================================================================================================================================================================================================================================================================================================================================================================================================================================================================================================================================================================================================================================================================================================================================================================================================================================================================================================================================================================================================================================================================================================================================================================================================================================================================================================================================================================================================================================================================================================================================================================================================================================================================================================================================================================================================================================] - 0s 60us/sample - loss: 6.6864e-06 - mae: 0.0022 - acc: 0.0000e+00\n"
     ]
    },
    {
     "data": {
      "text/plain": [
       "[4.967146087437868e-06, 0.0021876525, 0.0]"
      ]
     },
     "execution_count": 8,
     "metadata": {},
     "output_type": "execute_result"
    }
   ],
   "source": [
    "predict_input = np.linspace(100,201,100)\n",
    "predictions = model.predict(predict_input)\n",
    "print(predict_input, predictions)\n",
    "model.evaluate(predict_input, 2*predict_input)"
   ]
  },
  {
   "cell_type": "code",
   "execution_count": 9,
   "metadata": {},
   "outputs": [],
   "source": [
    "# model saving\n",
    "#serialize model to JSON\n",
    "# keras model which is trained is defined as 'model'\n",
    "model_json = model.to_json()\n",
    "\n",
    "#model config as json\n",
    "with open('2x.json','w') as json_file:\n",
    "    json_file.write(model_json)\n",
    "    \n",
    "#serialize weights to HDF5\n",
    "model.save_weights(\"2x.h5\")\n"
   ]
  },
  {
   "cell_type": "code",
   "execution_count": 10,
   "metadata": {},
   "outputs": [],
   "source": [
    "# Saved model\n",
    "from tensorflow.keras.models import load_model\n",
    "from tensorflow.keras.models import model_from_json\n",
    "\n",
    "with open('2x.json','r') as f:\n",
    "    model_loaded = model_from_json(f.read())\n",
    "\n",
    "# Load weights into the new model\n",
    "model_loaded.load_weights('2x.h5')"
   ]
  },
  {
   "cell_type": "code",
   "execution_count": 11,
   "metadata": {},
   "outputs": [
    {
     "name": "stdout",
     "output_type": "stream",
     "text": [
      "Model: \"sequential\"\n",
      "_________________________________________________________________\n",
      "Layer (type)                 Output Shape              Param #   \n",
      "=================================================================\n",
      "dense (Dense)                (None, 1)                 2         \n",
      "_________________________________________________________________\n",
      "dense_1 (Dense)              (None, 1)                 2         \n",
      "=================================================================\n",
      "Total params: 4\n",
      "Trainable params: 4\n",
      "Non-trainable params: 0\n",
      "_________________________________________________________________\n"
     ]
    }
   ],
   "source": [
    "model_loaded.summary()"
   ]
  },
  {
   "cell_type": "code",
   "execution_count": 12,
   "metadata": {},
   "outputs": [
    {
     "name": "stdout",
     "output_type": "stream",
     "text": [
      "[[199.99854]\n",
      " [202.03893]\n",
      " [204.07932]\n",
      " [206.1197 ]\n",
      " [208.1601 ]\n",
      " [210.2005 ]\n",
      " [212.24089]\n",
      " [214.28125]\n",
      " [216.32164]\n",
      " [218.36203]\n",
      " [220.40242]\n",
      " [222.44281]\n",
      " [224.4832 ]\n",
      " [226.5236 ]\n",
      " [228.564  ]\n",
      " [230.60439]\n",
      " [232.64478]\n",
      " [234.68517]\n",
      " [236.72556]\n",
      " [238.76591]\n",
      " [240.80634]\n",
      " [242.84671]\n",
      " [244.8871 ]\n",
      " [246.92749]\n",
      " [248.96788]\n",
      " [251.00827]\n",
      " [253.04866]\n",
      " [255.08905]\n",
      " [257.12946]\n",
      " [259.16983]\n",
      " [261.21024]\n",
      " [263.2506 ]\n",
      " [265.29102]\n",
      " [267.33142]\n",
      " [269.3718 ]\n",
      " [271.4122 ]\n",
      " [273.45258]\n",
      " [275.49298]\n",
      " [277.53333]\n",
      " [279.57373]\n",
      " [281.6141 ]\n",
      " [283.6545 ]\n",
      " [285.6949 ]\n",
      " [287.7353 ]\n",
      " [289.77567]\n",
      " [291.81604]\n",
      " [293.85645]\n",
      " [295.89682]\n",
      " [297.93726]\n",
      " [299.97763]\n",
      " [302.018  ]\n",
      " [304.0584 ]\n",
      " [306.0988 ]\n",
      " [308.1392 ]\n",
      " [310.17957]\n",
      " [312.21997]\n",
      " [314.26035]\n",
      " [316.30075]\n",
      " [318.34113]\n",
      " [320.38153]\n",
      " [322.42194]\n",
      " [324.4623 ]\n",
      " [326.50266]\n",
      " [328.54306]\n",
      " [330.58347]\n",
      " [332.62384]\n",
      " [334.66425]\n",
      " [336.70462]\n",
      " [338.745  ]\n",
      " [340.7854 ]\n",
      " [342.82578]\n",
      " [344.86618]\n",
      " [346.90656]\n",
      " [348.94696]\n",
      " [350.98734]\n",
      " [353.02774]\n",
      " [355.06815]\n",
      " [357.10852]\n",
      " [359.14893]\n",
      " [361.1893 ]\n",
      " [363.2297 ]\n",
      " [365.27008]\n",
      " [367.31046]\n",
      " [369.35086]\n",
      " [371.39124]\n",
      " [373.43164]\n",
      " [375.47202]\n",
      " [377.5124 ]\n",
      " [379.55276]\n",
      " [381.59317]\n",
      " [383.63358]\n",
      " [385.67395]\n",
      " [387.71436]\n",
      " [389.75473]\n",
      " [391.79514]\n",
      " [393.8355 ]\n",
      " [395.87592]\n",
      " [397.9163 ]\n",
      " [399.9567 ]\n",
      " [401.99707]]\n"
     ]
    }
   ],
   "source": [
    "# run prediction using the trained model\n",
    "predict_input = np.linspace(100,201,100)\n",
    "predictions = model_loaded.predict(predict_input)\n",
    "print(predictions)"
   ]
  },
  {
   "cell_type": "markdown",
   "metadata": {},
   "source": [
    "# Convolution Neural Network (CNN)"
   ]
  },
  {
   "cell_type": "code",
   "execution_count": 13,
   "metadata": {},
   "outputs": [],
   "source": [
    "from tensorflow.keras.models import Sequential, load_model\n",
    "from tensorflow.keras.layers import Dense, Conv2D, Flatten, MaxPool2D, Dropout\n",
    "from tensorflow.keras import optimizers\n",
    "from tensorflow.keras.preprocessing.image import ImageDataGenerator"
   ]
  },
  {
   "cell_type": "code",
   "execution_count": 14,
   "metadata": {},
   "outputs": [],
   "source": [
    "model = Sequential()\n",
    "\n",
    "# Input layer\n",
    "model.add(Conv2D(filters=32,kernel_size=(2,2),input_shape=(28,28,1),activation='relu'))\n",
    "\n",
    "# Hidden layers\n",
    "model.add(Conv2D(filters=64,kernel_size=(2,2),activation='relu'))\n",
    "model.add(Flatten())  # converts higher dimension,i.e. 2x2 matrix or higher to single dimension\n",
    "model.add(Dense(128,activation='relu'))\n",
    "model.add(Dense(64,activation='relu'))\n",
    "\n",
    "# Output Layer\n",
    "model.add(Dense(10,activation='softmax'))  # 10 detonates number of outputs(0-9); softmax gives probability of all inputs."
   ]
  },
  {
   "cell_type": "code",
   "execution_count": 15,
   "metadata": {},
   "outputs": [
    {
     "name": "stdout",
     "output_type": "stream",
     "text": [
      "Model: \"sequential_1\"\n",
      "_________________________________________________________________\n",
      "Layer (type)                 Output Shape              Param #   \n",
      "=================================================================\n",
      "conv2d (Conv2D)              (None, 27, 27, 32)        160       \n",
      "_________________________________________________________________\n",
      "conv2d_1 (Conv2D)            (None, 26, 26, 64)        8256      \n",
      "_________________________________________________________________\n",
      "flatten (Flatten)            (None, 43264)             0         \n",
      "_________________________________________________________________\n",
      "dense_2 (Dense)              (None, 128)               5537920   \n",
      "_________________________________________________________________\n",
      "dense_3 (Dense)              (None, 64)                8256      \n",
      "_________________________________________________________________\n",
      "dense_4 (Dense)              (None, 10)                650       \n",
      "=================================================================\n",
      "Total params: 5,555,242\n",
      "Trainable params: 5,555,242\n",
      "Non-trainable params: 0\n",
      "_________________________________________________________________\n"
     ]
    }
   ],
   "source": [
    "model.summary()"
   ]
  },
  {
   "cell_type": "code",
   "execution_count": 16,
   "metadata": {},
   "outputs": [],
   "source": [
    "model.compile(loss='categorical_crossentropy',optimier='adam',metrics=['accuracy'])"
   ]
  },
  {
   "cell_type": "code",
   "execution_count": 17,
   "metadata": {},
   "outputs": [],
   "source": [
    "img_gen = ImageDataGenerator(rescale=1/255)"
   ]
  },
  {
   "cell_type": "code",
   "execution_count": 18,
   "metadata": {},
   "outputs": [
    {
     "name": "stdout",
     "output_type": "stream",
     "text": [
      "Found 37940 images belonging to 10 classes.\n"
     ]
    }
   ],
   "source": [
    "# give data from a folder\n",
    "train_img_gen = img_gen.flow_from_directory('C:/Users/Admin/Desktop/AI workshop mpercept/resources/mnist_data/trainingSet',\n",
    "                                           target_size=(28,28),  # target size depends on input size\n",
    "                                           batch_size=16,\n",
    "                                           class_mode='categorical',\n",
    "                                           color_mode='grayscale')"
   ]
  },
  {
   "cell_type": "code",
   "execution_count": 19,
   "metadata": {},
   "outputs": [
    {
     "name": "stdout",
     "output_type": "stream",
     "text": [
      "Found 4060 images belonging to 10 classes.\n"
     ]
    }
   ],
   "source": [
    "# give data from a folder\n",
    "validate_img_gen = img_gen.flow_from_directory('C:/Users/Admin/Desktop/AI workshop mpercept/resources/mnist_data/validatingSet',\n",
    "                                              target_size=(28,28),\n",
    "                                              batch_size=16,   # epoch -> no of data trained before back propagation \n",
    "                                              class_mode='categorical',\n",
    "                                              color_mode='grayscale')"
   ]
  },
  {
   "cell_type": "code",
   "execution_count": 20,
   "metadata": {},
   "outputs": [
    {
     "data": {
      "text/plain": [
       "{'0': 0,\n",
       " '1': 1,\n",
       " '2': 2,\n",
       " '3': 3,\n",
       " '4': 4,\n",
       " '5': 5,\n",
       " '6': 6,\n",
       " '7': 7,\n",
       " '8': 8,\n",
       " '9': 9}"
      ]
     },
     "execution_count": 20,
     "metadata": {},
     "output_type": "execute_result"
    }
   ],
   "source": [
    "train_img_gen.class_indices"
   ]
  },
  {
   "cell_type": "code",
   "execution_count": 21,
   "metadata": {},
   "outputs": [
    {
     "name": "stdout",
     "output_type": "stream",
     "text": [
      "100/100 [==============================] - 25s 246ms/step - loss: 0.7385 - accuracy: 0.7625 - val_loss: 0.2863 - val_accuracy: 0.9323\n"
     ]
    }
   ],
   "source": [
    "result = model.fit_generator(train_img_gen, validation_data=validate_img_gen,\n",
    "                            validation_steps=12,epochs=1,\n",
    "                            steps_per_epoch=100)"
   ]
  },
  {
   "cell_type": "code",
   "execution_count": 22,
   "metadata": {},
   "outputs": [
    {
     "name": "stdout",
     "output_type": "stream",
     "text": [
      "Epoch 1/2\n",
      "100/100 [==============================] - 22s 224ms/step - loss: 0.2784 - accuracy: 0.9219 - val_loss: 0.1957 - val_accuracy: 0.9427\n",
      "Epoch 2/2\n",
      "100/100 [==============================] - 24s 240ms/step - loss: 0.2019 - accuracy: 0.9306 - val_loss: 0.1667 - val_accuracy: 0.9531\n"
     ]
    }
   ],
   "source": [
    "result = model.fit_generator(train_img_gen, validation_data=validate_img_gen,\n",
    "                            validation_steps=12,epochs=2,\n",
    "                            steps_per_epoch=100)"
   ]
  },
  {
   "cell_type": "code",
   "execution_count": 23,
   "metadata": {},
   "outputs": [
    {
     "name": "stdout",
     "output_type": "stream",
     "text": [
      "Epoch 1/3\n",
      "100/100 [==============================] - 24s 241ms/step - loss: 0.1880 - accuracy: 0.9471 - val_loss: 0.1156 - val_accuracy: 0.9635\n",
      "Epoch 2/3\n",
      "100/100 [==============================] - 23s 226ms/step - loss: 0.1541 - accuracy: 0.9513 - val_loss: 0.2188 - val_accuracy: 0.9167\n",
      "Epoch 3/3\n",
      "100/100 [==============================] - 23s 226ms/step - loss: 0.1582 - accuracy: 0.9506 - val_loss: 0.0770 - val_accuracy: 0.9792\n"
     ]
    }
   ],
   "source": [
    "# epochs increase accuracy\n",
    "result = model.fit_generator(train_img_gen, validation_data=validate_img_gen,\n",
    "                            validation_steps=12,epochs=3,\n",
    "                            steps_per_epoch=100) "
   ]
  },
  {
   "cell_type": "code",
   "execution_count": 24,
   "metadata": {},
   "outputs": [],
   "source": [
    "model.save('mnist_model_epoch3_step_100.h5')"
   ]
  },
  {
   "cell_type": "code",
   "execution_count": 25,
   "metadata": {},
   "outputs": [
    {
     "name": "stdout",
     "output_type": "stream",
     "text": [
      "(28, 28)\n",
      "(1, 28, 28, 1)\n"
     ]
    }
   ],
   "source": [
    "import numpy as np\n",
    "import cv2\n",
    "\n",
    "img = cv2.imread('C:/Users/Admin/Desktop/AI workshop mpercept/resources/mnist_data/testSet/img_19.jpg',0) # 0=>grayscale\n",
    "img = cv2.resize(img,(28,28))\n",
    "print(a.shape)\n",
    "\n",
    "#import tensorflow as tf\n",
    "#img = tf.cast(img, tf.float32)\n",
    "\n",
    "img = np.expand_dims(img,axis=0)       # added a dimension to satisfy input image channel dimension\n",
    "test_img = np.expand_dims(img,axis=0)  # added batch dimension\n",
    "test_img = test_img.transpose((1,2,3,0))/255  # normalize\n",
    "print(test_img.shape)"
   ]
  },
  {
   "cell_type": "code",
   "execution_count": 26,
   "metadata": {},
   "outputs": [
    {
     "data": {
      "text/plain": [
       "array([9], dtype=int64)"
      ]
     },
     "execution_count": 26,
     "metadata": {},
     "output_type": "execute_result"
    }
   ],
   "source": [
    "a = model.predict_classes(test_img)\n",
    "a"
   ]
  },
  {
   "cell_type": "code",
   "execution_count": 30,
   "metadata": {},
   "outputs": [
    {
     "data": {
      "text/plain": [
       "array([9], dtype=int64)"
      ]
     },
     "execution_count": 30,
     "metadata": {},
     "output_type": "execute_result"
    }
   ],
   "source": [
    "a = model.predict_classes(test_img.reshape(1,28,28,1))\n",
    "a"
   ]
  },
  {
   "cell_type": "markdown",
   "metadata": {},
   "source": [
    "# Tasks\n",
    "\n",
    "* Look after YOLO\n",
    "* Train a MNIST Model with highest accuracy(99%+) using different optimizers and loss fxn, layers\n",
    "* Look after transfer learning\n",
    "* Install PYCharm"
   ]
  },
  {
   "cell_type": "code",
   "execution_count": null,
   "metadata": {},
   "outputs": [],
   "source": []
  }
 ],
 "metadata": {
  "kernelspec": {
   "display_name": "Python 3",
   "language": "python",
   "name": "python3"
  },
  "language_info": {
   "codemirror_mode": {
    "name": "ipython",
    "version": 3
   },
   "file_extension": ".py",
   "mimetype": "text/x-python",
   "name": "python",
   "nbconvert_exporter": "python",
   "pygments_lexer": "ipython3",
   "version": "3.7.5"
  }
 },
 "nbformat": 4,
 "nbformat_minor": 4
}
